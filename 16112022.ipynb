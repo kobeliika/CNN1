{
 "cells": [
  {
   "cell_type": "code",
   "execution_count": 72,
   "id": "87f18dbb",
   "metadata": {},
   "outputs": [],
   "source": [
    "import torch\n",
    "from torch import nn as nn\n",
    "from torch.utils.data import DataLoader\n",
    "from torch import optim\n",
    "import matplotlib.pyplot as plt\n",
    "from torch.nn import functional as F\n",
    "from torchvision.datasets import ImageFolder\n",
    "from torchvision import transforms, models"
   ]
  },
  {
   "cell_type": "code",
   "execution_count": 73,
   "id": "0090f75c",
   "metadata": {},
   "outputs": [],
   "source": [
    "DEVICE = torch.device(\"cpu\")"
   ]
  },
  {
   "cell_type": "code",
   "execution_count": 74,
   "id": "c881f928",
   "metadata": {},
   "outputs": [],
   "source": [
    "transformations = transforms.Compose([\n",
    "    transforms.Resize((224, 224)),\n",
    "    transforms.ToTensor(),\n",
    "    transforms.Normalize(\n",
    "        mean = [0.485, 0.456, 0.406],\n",
    "        std = [0.229, 0.224, 0.225]\n",
    "    )\n",
    "])"
   ]
  },
  {
   "cell_type": "code",
   "execution_count": 75,
   "id": "b72e9eb8",
   "metadata": {},
   "outputs": [],
   "source": [
    "train_data = ImageFolder(r\"D:\\iskustvenii intileng\\CNN\\dataset\\training_set\", transform=transformations)\n",
    "test_data = ImageFolder(r\"D:\\iskustvenii intileng\\CNN\\dataset\\test_set\", transform=transformations)"
   ]
  },
  {
   "cell_type": "code",
   "execution_count": 76,
   "id": "8bcf5d64",
   "metadata": {},
   "outputs": [
    {
     "ename": "ModuleNotFoundError",
     "evalue": "No module named 'cv2'",
     "output_type": "error",
     "traceback": [
      "\u001b[1;31m---------------------------------------------------------------------------\u001b[0m",
      "\u001b[1;31mModuleNotFoundError\u001b[0m                       Traceback (most recent call last)",
      "\u001b[1;32m~\\AppData\\Local\\Temp\\ipykernel_8828\\571303353.py\u001b[0m in \u001b[0;36m<module>\u001b[1;34m\u001b[0m\n\u001b[1;32m----> 1\u001b[1;33m \u001b[1;32mimport\u001b[0m \u001b[0mcv2\u001b[0m\u001b[1;33m\u001b[0m\u001b[1;33m\u001b[0m\u001b[0m\n\u001b[0m",
      "\u001b[1;31mModuleNotFoundError\u001b[0m: No module named 'cv2'"
     ]
    }
   ],
   "source": [
    "import cv2"
   ]
  },
  {
   "cell_type": "code",
   "execution_count": 77,
   "id": "aa3cae36",
   "metadata": {},
   "outputs": [
    {
     "name": "stderr",
     "output_type": "stream",
     "text": [
      "'conda' is not recognized as an internal or external command,\n",
      "operable program or batch file.\n"
     ]
    }
   ],
   "source": [
    "!conda upgrade -c conda-forge matplotlib"
   ]
  },
  {
   "cell_type": "code",
   "execution_count": 78,
   "id": "36cd05b2",
   "metadata": {},
   "outputs": [],
   "source": [
    "class Net(nn.Module):\n",
    "    def __init__(self):\n",
    "        super().__init__()\n",
    "        \n",
    "        self.conv1 = nn.Conv2d(3, 32, kernel_size=3, padding=1)\n",
    "        self.pool1 = nn.MaxPool2d(2)\n",
    "        self.conv2 = nn.Conv2d(32, 64, kernel_size=3, padding=1)\n",
    "        self.pool2 = nn.MaxPool2d(2)\n",
    "        self.conv3 = nn.Conv2d(64, 128, kernel_size=3, padding=1)\n",
    "        self.pool3 = nn.MaxPool2d(2)\n",
    "        self.flatten = nn. flatten()\n",
    "        self.fc1 = nn.Linear()\n",
    "        self.fc1 = nn.Linear(128*28*28, 256)\n",
    "        self.fc2 = nn.Linear(156,128)\n",
    "        self.fc3 = nn.Linear(128,1)\n",
    "        \n",
    "    def forward(self, x):\n",
    "        out = self.pool1(F.relu(self.conv1(x)))\n",
    "        out = self.pool2(F.relu(self.conv2(out)))\n",
    "        out = self.pool3(F.relu(self.conv3(out)))\n",
    "        out = self.flatten(out)\n",
    "        out = F.relu(self.fc1(out))\n",
    "        out = F.relu(self.fc2(out))\n",
    "        out = torch.sigmoid(self.fc3(out))\n",
    "        return out                "
   ]
  },
  {
   "cell_type": "code",
   "execution_count": 79,
   "id": "c91b7ad5",
   "metadata": {},
   "outputs": [],
   "source": [
    "class Net(nn.Module):\n",
    "    def __init__(self):\n",
    "        super().__init__()\n",
    "        self.conv1 = nn.Conv2d(3, 32, kernel_size=3, padding=1)\n",
    "        self.pool1 = nn.MaxPool2d(2)\n",
    "        self.conv2 = nn.Conv2d(32, 64, kernel_size=3, padding=1)\n",
    "        self.pool2 = nn.MaxPool2d(2)\n",
    "        self.conv3 = nn.Conv2d(64, 128, kernel_size=3, padding=1)\n",
    "        self.pool3 = nn.MaxPool2d(2)\n",
    "        self.flatten = nn.Flatten()\n",
    "        self.fc1 = nn.Linear(128*28*28, 256)\n",
    "        self.fc2 = nn.Linear(256, 128)\n",
    "        self.fc3 = nn.Linear(128, 1)\n",
    "    \n",
    "    def forward(self, x):\n",
    "        out = self.pool1(F.relu(self.conv1(x)))\n",
    "        out = self.pool2(F.relu(self.conv2(out)))\n",
    "        out = self.pool3(F.relu(self.conv3(out)))\n",
    "        out = self.flatten(out)\n",
    "        out = F.relu(self.fc1(out))\n",
    "        out = F.relu(self.fc2(out))\n",
    "        out = torch.sigmoid(self.fc3(out))\n",
    "        return out"
   ]
  },
  {
   "cell_type": "code",
   "execution_count": 92,
   "id": "c2e1e1e8",
   "metadata": {},
   "outputs": [],
   "source": [
    "def training_loop(n_epochs, optimizer, model, loss_fn, train_loader, test_loader, print_plot=True):\n",
    "    train_accuracy = torch.zeros(n_epochs)\n",
    "    test_accuracy = torch.zeros(n_epochs)\n",
    "    \n",
    "    for epoch in range(n_epochs):\n",
    "        for examples, labels in train_loader:\n",
    "            examples = examples.to(DEVICE)\n",
    "            labels = labels.to(DEVICE)\n",
    "            \n",
    "            labels = labels.unsqueeze(1)\n",
    "            \n",
    "            output = model(examples.float())\n",
    "            loss = loss_fn(output, labels.float())\n",
    "            \n",
    "            optimizer.zero_grad()\n",
    "            loss.backward()\n",
    "            optimizer.step()\n",
    "        \n",
    "        with torch.no_grad():\n",
    "            for loader, accuracy in [(train_loader, train_accuracy), (test_loader, test_accuracy)]:\n",
    "                correct = 0\n",
    "                total = 0\n",
    "                \n",
    "                for examples, labels in loader:\n",
    "                    examples = examples.to(device=DEVICE)\n",
    "                    labels = labels.to(device=DEVICE).view(-1,1)\n",
    "                    \n",
    "                    outputs = model(examples.float())\n",
    "                    predicted = torch.round(outputs)\n",
    "                    \n",
    "                    total += labels.shape[0]\n",
    "                    correct += (predicted == labels).sum()\n",
    "                accuracy[epoch] = correct / total\n",
    "        print(f\"EPOCH - {epoch+1}\\n Train Accuracy - {train_accuracy[epoch]} \\n Test Accuracy - {test_accuracy[epoch]}\")\n",
    "    if print_plot:\n",
    "        epochs = range(n_epochs)\n",
    "\n",
    "        #Ploting both curves, train and val \n",
    "        plt.plot(epochs, train_accuracy, 'g', label='Training accuracy')\n",
    "        plt.plot(epochs, test_accuracy, 'b', label='Test accuracy')\n",
    "        plt.title('Training and Test loss')\n",
    "        plt.xlabel('Epochs')\n",
    "        plt.ylabel('Loss')\n",
    "        plt.legend()\n",
    "        plt.show()"
   ]
  },
  {
   "cell_type": "code",
   "execution_count": 93,
   "id": "b83f01e0",
   "metadata": {},
   "outputs": [],
   "source": [
    "import numpy as np\n",
    "train_data = torch.utils.data.Subset(train_data, np.random.choice(len(train_data), \n",
    "                                                                  1000, replace=False))\n",
    "test_data = torch.utils.data.Subset(test_data, np.random.choice(len(test_data), \n",
    "                                                                200, replace=False))"
   ]
  },
  {
   "cell_type": "code",
   "execution_count": 94,
   "id": "5352d1a2",
   "metadata": {},
   "outputs": [],
   "source": [
    "train_loader = DataLoader(train_data, batch_size=32, shuffle=True)\n",
    "test_loader = DataLoader(test_data, batch_size=32, shuffle=True)"
   ]
  },
  {
   "cell_type": "code",
   "execution_count": 95,
   "id": "9fd63ffa",
   "metadata": {},
   "outputs": [
    {
     "name": "stdout",
     "output_type": "stream",
     "text": [
      "EPOCH - 1\n",
      " Train Accuracy - 0.6060000061988831 \n",
      " Test Accuracy - 0.5950000286102295\n",
      "EPOCH - 2\n",
      " Train Accuracy - 0.6449999809265137 \n",
      " Test Accuracy - 0.6449999809265137\n",
      "EPOCH - 3\n",
      " Train Accuracy - 0.7089999914169312 \n",
      " Test Accuracy - 0.6150000095367432\n",
      "EPOCH - 4\n",
      " Train Accuracy - 0.7429999709129333 \n",
      " Test Accuracy - 0.6499999761581421\n",
      "EPOCH - 5\n",
      " Train Accuracy - 0.8450000286102295 \n",
      " Test Accuracy - 0.6600000262260437\n",
      "EPOCH - 6\n",
      " Train Accuracy - 0.9160000085830688 \n",
      " Test Accuracy - 0.6949999928474426\n",
      "EPOCH - 7\n",
      " Train Accuracy - 0.9819999933242798 \n",
      " Test Accuracy - 0.699999988079071\n",
      "EPOCH - 8\n",
      " Train Accuracy - 0.9850000143051147 \n",
      " Test Accuracy - 0.6700000166893005\n",
      "EPOCH - 9\n",
      " Train Accuracy - 0.996999979019165 \n",
      " Test Accuracy - 0.6850000023841858\n",
      "EPOCH - 10\n",
      " Train Accuracy - 1.0 \n",
      " Test Accuracy - 0.6949999928474426\n"
     ]
    },
    {
     "data": {
      "image/png": "[encoded data removed]",
      "text/plain": [
       "<Figure size 432x288 with 1 Axes>"
      ]
     },
     "metadata": {
      "needs_background": "light"
     },
     "output_type": "display_data"
    }
   ],
   "source": [
    "learning_rate = 1e-3\n",
    "\n",
    "model = Net().to(DEVICE)\n",
    "optimizer = optim.Adam(model.parameters(), lr=learning_rate)\n",
    "loss_fn = nn.BCELoss()\n",
    "\n",
    "training_loop(\n",
    "    n_epochs = 10,\n",
    "    optimizer = optimizer,\n",
    "    model = model,\n",
    "    loss_fn = loss_fn,\n",
    "    print_plot = True,\n",
    "    train_loader = train_loader,\n",
    "    test_loader = test_loader\n",
    ")"
   ]
  },
  {
   "cell_type": "code",
   "execution_count": null,
   "id": "26352b49",
   "metadata": {},
   "outputs": [],
   "source": []
  }
 ],
 "metadata": {
  "kernelspec": {
   "display_name": "Python 3 (ipykernel)",
   "language": "python",
   "name": "python3"
  },
  "language_info": {
   "codemirror_mode": {
    "name": "ipython",
    "version": 3
   },
   "file_extension": ".py",
   "mimetype": "text/x-python",
   "name": "python",
   "nbconvert_exporter": "python",
   "pygments_lexer": "ipython3",
   "version": "3.7.9"
  }
 },
 "nbformat": 4,
 "nbformat_minor": 5
}
